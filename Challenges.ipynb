{
 "cells": [
  {
   "cell_type": "markdown",
   "metadata": {},
   "source": [
    "# Challenges\n",
    "\n",
    "Form a group of 2-3 people and try to solve as many of these as you can. Remember everyone's answer can be correct and be a little different"
   ]
  },
  {
   "cell_type": "markdown",
   "metadata": {},
   "source": [
    "## Find the Missing Number\n",
    "\n",
    "Given an array containing n distinct numbers taken from 0, 1, 2, ..., n, write a function to find the one that is missing from the array.\n",
    "\n",
    "Example:\n",
    "\n",
    "Input: [3, 0, 1]\n",
    "Output: 2\n"
   ]
  },
  {
   "cell_type": "code",
   "execution_count": 2,
   "metadata": {},
   "outputs": [
    {
     "name": "stdout",
     "output_type": "stream",
     "text": [
      "1\n",
      "2\n",
      "3\n",
      "4\n",
      "5\n",
      "6\n",
      "7\n",
      "8\n",
      "9\n",
      "10\n",
      "11\n",
      "12\n",
      "13\n",
      "14\n",
      "15\n",
      "16\n",
      "17\n",
      "18\n",
      "19\n",
      "20\n",
      "21\n",
      "22\n",
      "23\n",
      "24\n",
      "25\n",
      "26\n",
      "27\n",
      "28\n",
      "29\n",
      "30\n",
      "31\n",
      "32\n",
      "33\n",
      "34\n",
      "35\n",
      "36\n",
      "37\n",
      "38\n",
      "39\n",
      "40\n",
      "41\n",
      "42\n",
      "43\n",
      "44\n",
      "45\n",
      "46\n",
      "47\n",
      "48\n",
      "49\n",
      "50\n",
      "51\n",
      "52\n",
      "53\n",
      "54\n",
      "55\n",
      "56\n",
      "57\n",
      "58\n",
      "59\n",
      "60\n",
      "61\n",
      "62\n",
      "63\n",
      "64\n",
      "65\n",
      "66\n",
      "67\n",
      "68\n",
      "69\n",
      "70\n",
      "71\n",
      "72\n",
      "73\n",
      "74\n",
      "75\n",
      "76\n",
      "77\n",
      "78\n",
      "79\n",
      "80\n",
      "81\n",
      "82\n",
      "83\n",
      "84\n",
      "85\n",
      "86\n",
      "87\n",
      "88\n",
      "89\n",
      "90\n",
      "91\n",
      "92\n",
      "93\n",
      "94\n",
      "95\n",
      "96\n",
      "97\n",
      "98\n",
      "99\n",
      "100\n"
     ]
    }
   ],
   "source": [
    "\n",
    "for a in range (1, 101):\n",
    "\n",
    "    print (a)"
   ]
  },
  {
   "cell_type": "markdown",
   "metadata": {},
   "source": [
    "## Count Primes\n",
    "\n",
    "Write a function that returns the count of prime numbers less than a non-negative number n.\n",
    "\n",
    "Example:\n",
    "Input: 10\n",
    "Output: 4"
   ]
  },
  {
   "cell_type": "code",
   "execution_count": 1,
   "metadata": {},
   "outputs": [
    {
     "name": "stdout",
     "output_type": "stream",
     "text": [
      "0.25\n"
     ]
    }
   ],
   "source": [
    "number = float(input('write a number'))\n",
    "if number<1:\n",
    "    x=number-1\n",
    "else:\n",
    "    x=number**-2\n",
    "print (x)"
   ]
  },
  {
   "cell_type": "markdown",
   "metadata": {},
   "source": [
    "## Generate Permutations\n",
    "Prompt:\n",
    "Write a function that generates all permutations of a given list of numbers.\n",
    "\n",
    "Example:\n",
    "Input: [1, 2, 3]\n",
    "\n",
    "Output: \n",
    "[\n",
    "  [1, 2, 3],\n",
    "  [1, 3, 2],\n",
    "  [2, 1, 3],\n",
    "  [2, 3, 1],\n",
    "  [3, 1, 2],\n",
    "  [3, 2, 1]\n",
    "]"
   ]
  },
  {
   "cell_type": "code",
   "execution_count": null,
   "metadata": {},
   "outputs": [],
   "source": []
  },
  {
   "cell_type": "markdown",
   "metadata": {},
   "source": [
    "## Two Missiles\n",
    "Two missiles speed directly toward each other at two different speeds. The missiles start number of miles apart. Create a function that you can enter a number representing the number of a minute before impact and it returns the distance between them.\n",
    "\n",
    "Example:\n",
    "Input: \n",
    "- initial_distance = 1317  # miles\n",
    "- speed1 = 450  # this is miles per hour, remeber to convert to miles per minute\n",
    "- speed2 = 550  \n",
    "- minutes_before_impact = 1\n",
    "\n",
    "Output: \n",
    "1300.3333333333333 miles"
   ]
  },
  {
   "cell_type": "code",
   "execution_count": 5,
   "metadata": {},
   "outputs": [
    {
     "name": "stdout",
     "output_type": "stream",
     "text": [
      "The distance between the missiles 1 minute(s) before impact is: 1300.3333333333333 miles\n"
     ]
    }
   ],
   "source": []
  },
  {
   "cell_type": "markdown",
   "metadata": {},
   "source": [
    "## The Bathtub Problem:\n",
    "My grandparents have an old bathtub with two separate faucets. The cold-water faucet can fill the tub in a half-hour and the hot-water faucet can fill the tub in an hour. How long will it take to fill the tub when they are both running together?"
   ]
  },
  {
   "cell_type": "code",
   "execution_count": null,
   "metadata": {},
   "outputs": [],
   "source": []
  },
  {
   "cell_type": "markdown",
   "metadata": {},
   "source": [
    "## The Locker Problem\n",
    "Imagine a row of 100 closed lockers numbered sequentially. 100 people walk by the lockers. The first person changes the state of every locker -- in this case they open every locker. The second person changes the state of every second locker -- they will close lockers 2, 4, 6, 8, and so on. The third person changes every 3rd locker -- closing locker 3, opening 6, and so on. This continues until all 100 people walk by. The 100th person just touches the 100th locker. Which lockers are open?\n",
    "\n",
    "Solution output: list of locker numbers that are still open"
   ]
  },
  {
   "cell_type": "code",
   "execution_count": null,
   "metadata": {},
   "outputs": [],
   "source": []
  },
  {
   "cell_type": "markdown",
   "metadata": {},
   "source": [
    "## Logical Pirates\n",
    "5 pirates of different ages have a treasure of 100 gold coins. Let us name the pirates (from oldest to youngest): Blackbeard, Calico_Jack, Anne_Bonny, Bartholomew_Roberts and Henry_Morgan.\n",
    "\n",
    "On their ship, they decide to split the coins using this scheme:\n",
    "The oldest pirate proposes how to share the coins, and ALL pirates (including the oldest) vote for or against it.\n",
    "If 50% or more of the pirates vote for it, then the coins will be shared that way.\n",
    "\tOtherwise, the pirate proposing the scheme will be thrown overboard, and the process is\n",
    "\trepeated with the pirates that remain.\n",
    "\n",
    "As pirates tend to be a bloodthirsty bunch, if a pirate would get the same number of\n",
    "\tcoins if he voted for or against a proposal, he will vote against so that the pirate who\n",
    "\tproposed the plan will be thrown overboard.\n",
    "\n",
    "Assuming that all 5 pirates are intelligent, rational, greedy, and do not wish to die, (and\n",
    "\tare rather good at math for pirates) what will happen?\n",
    "\n",
    "Solution output: Dictionary of pirate names and the gold they recieved"
   ]
  },
  {
   "cell_type": "code",
   "execution_count": null,
   "metadata": {},
   "outputs": [],
   "source": []
  },
  {
   "cell_type": "markdown",
   "metadata": {},
   "source": [
    "## Off The Top of Your Head\n",
    "Pal, Ral, and Sal are “Perfect Logicians”. One day they attend a Math Club party and participate in some interesting activities. One such activity is “The Hat Game”. \n",
    "\n",
    "The Math Club President, Alpha, has three green hats and two yellow hats. Alpha puts blindfolds on Pal, Ral and Sal and then places a hat on each of their heads. When a blindfold is removed from one of the logicians he cannot see the hat he is wearing but he can see the hats of this two friends.\n",
    "\n",
    "Alpha removes the blindfold from Pal. Pal looks at his two friends and says, “I cannot tell what color hat I’m wearing.”\n",
    "Alpha removes the blindfold from Ral. Ral looks at his two friends and says, “I cannot tell what color hat I’m wearing.”\n",
    "\n",
    "Before Alpha removes the blindfold from Sal, Sal says “I know what color hat I’m wearing”. \n",
    "\n",
    "What color hat is Sal wearing?\n",
    "\n",
    "Solution output: print \"the color of my hat is:\" and the color \"green\" or \"yellow\""
   ]
  },
  {
   "cell_type": "code",
   "execution_count": null,
   "metadata": {},
   "outputs": [],
   "source": []
  }
 ],
 "metadata": {
  "kernelspec": {
   "display_name": "Python 3",
   "language": "python",
   "name": "python3"
  },
  "language_info": {
   "codemirror_mode": {
    "name": "ipython",
    "version": 3
   },
   "file_extension": ".py",
   "mimetype": "text/x-python",
   "name": "python",
   "nbconvert_exporter": "python",
   "pygments_lexer": "ipython3",
   "version": "3.10.13"
  }
 },
 "nbformat": 4,
 "nbformat_minor": 2
}
