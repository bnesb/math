{
 "cells": [
  {
   "cell_type": "markdown",
   "metadata": {},
   "source": [
    "# Challenges\n",
    "\n",
    "Form a group of 2-3 people and try to solve as many of these as you can. Remember everyone's answer can be correct and be a little different"
   ]
  },
  {
   "cell_type": "markdown",
   "metadata": {},
   "source": [
    "## Find the Missing Number\n",
    "\n",
    "Given an array containing n distinct numbers taken from 0, 1, 2, ..., n, write a function to find the one that is missing from the array.\n",
    "\n",
    "Example:\n",
    "\n",
    "Input: [3, 0, 1]\n",
    "Output: 2\n"
   ]
  },
  {
   "cell_type": "code",
   "execution_count": null,
   "metadata": {},
   "outputs": [],
   "source": []
  },
  {
   "cell_type": "markdown",
   "metadata": {},
   "source": [
    "## Count Primes\n",
    "\n",
    "Write a function that returns the count of prime numbers less than a non-negative number n.\n",
    "\n",
    "Example:\n",
    "Input: 10\n",
    "Output: 4"
   ]
  },
  {
   "cell_type": "code",
   "execution_count": null,
   "metadata": {},
   "outputs": [],
   "source": []
  },
  {
   "cell_type": "markdown",
   "metadata": {},
   "source": [
    "## Generate Permutations\n",
    "Prompt:\n",
    "Write a function that generates all permutations of a given list of numbers.\n",
    "\n",
    "Example:\n",
    "Input: [1, 2, 3]\n",
    "\n",
    "Output: \n",
    "[\n",
    "  [1, 2, 3],\n",
    "  [1, 3, 2],\n",
    "  [2, 1, 3],\n",
    "  [2, 3, 1],\n",
    "  [3, 1, 2],\n",
    "  [3, 2, 1]\n",
    "]"
   ]
  },
  {
   "cell_type": "code",
   "execution_count": null,
   "metadata": {},
   "outputs": [],
   "source": []
  },
  {
   "cell_type": "markdown",
   "metadata": {},
   "source": [
    "## Two Missiles\n",
    "Two missiles speed directly toward each other at two different speeds. The missiles start number of miles apart. Create a function that you can enter a number representing the number of a minute before impact and it returns the distance between them.\n",
    "\n",
    "Example:\n",
    "Input: \n",
    "- initial_distance = 1317  # miles\n",
    "- speed1 = 450  # this is miles per hour, remeber to convert to miles per minute\n",
    "- speed2 = 550  \n",
    "- minutes_before_impact = 1\n",
    "\n",
    "Output: \n",
    "1300.3333333333333 miles"
   ]
  },
  {
   "cell_type": "code",
   "execution_count": 5,
   "metadata": {},
   "outputs": [
    {
     "name": "stdout",
     "output_type": "stream",
     "text": [
      "The distance between the missiles 1 minute(s) before impact is: 1300.3333333333333 miles\n"
     ]
    }
   ],
   "source": []
  },
  {
   "cell_type": "markdown",
   "metadata": {},
   "source": [
    "## The Bathtub Problem:\n",
    "My grandparents have an old bathtub with two separate faucets. The cold-water faucet can fill the tub in a half-hour and the hot-water faucet can fill the tub in an hour. How long will it take to fill the tub when they are both running together?"
   ]
  },
  {
   "cell_type": "code",
   "execution_count": null,
   "metadata": {},
   "outputs": [],
   "source": []
  },
  {
   "cell_type": "markdown",
   "metadata": {},
   "source": [
    "## The Locker Problem\n",
    "Imagine a row of 100 closed lockers numbered sequentially. 100 people walk by the lockers. The first person changes the state of every locker -- in this case they open every locker. The second person changes the state of every second locker -- they will close lockers 2, 4, 6, 8, and so on. The third person changes every 3rd locker -- closing locker 3, opening 6, and so on. This continues until all 100 people walk by. The 100th person just touches the 100th locker. Which lockers are open?\n",
    "\n",
    "Solution output: list of locker numbers that are still open"
   ]
  },
  {
   "cell_type": "code",
   "execution_count": null,
   "metadata": {},
   "outputs": [],
   "source": []
  },
  {
   "cell_type": "markdown",
   "metadata": {},
   "source": [
    "## Logical Pirates\n",
    "5 pirates of different ages have a treasure of 100 gold coins. Let us name the pirates (from oldest to youngest): Blackbeard, Calico_Jack, Anne_Bonny, Bartholomew_Roberts and Henry_Morgan.\n",
    "\n",
    "On their ship, they decide to split the coins using this scheme:\n",
    "The oldest pirate proposes how to share the coins, and ALL pirates (including the oldest) vote for or against it.\n",
    "If 50% or more of the pirates vote for it, then the coins will be shared that way.\n",
    "\tOtherwise, the pirate proposing the scheme will be thrown overboard, and the process is\n",
    "\trepeated with the pirates that remain.\n",
    "\n",
    "As pirates tend to be a bloodthirsty bunch, if a pirate would get the same number of\n",
    "\tcoins if he voted for or against a proposal, he will vote against so that the pirate who\n",
    "\tproposed the plan will be thrown overboard.\n",
    "\n",
    "Assuming that all 5 pirates are intelligent, rational, greedy, and do not wish to die, (and\n",
    "\tare rather good at math for pirates) what will happen?\n",
    "\n",
    "Solution output: Dictionary of pirate names and the gold they recieved"
   ]
  },
  {
   "cell_type": "code",
   "execution_count": null,
   "metadata": {},
   "outputs": [],
   "source": []
  },
  {
   "cell_type": "markdown",
   "metadata": {},
   "source": [
    "## Off The Top of Your Head\n",
    "Pal, Ral, and Sal are “Perfect Logicians”. One day they attend a Math Club party and participate in some interesting activities. One such activity is “The Hat Game”. \n",
    "\n",
    "The Math Club President, Alpha, has three green hats and two yellow hats. Alpha puts blindfolds on Pal, Ral and Sal and then places a hat on each of their heads. When a blindfold is removed from one of the logicians he cannot see the hat he is wearing but he can see the hats of this two friends.\n",
    "\n",
    "Alpha removes the blindfold from Pal. Pal looks at his two friends and says, “I cannot tell what color hat I’m wearing.”\n",
    "Alpha removes the blindfold from Ral. Ral looks at his two friends and says, “I cannot tell what color hat I’m wearing.”\n",
    "\n",
    "Before Alpha removes the blindfold from Sal, Sal says “I know what color hat I’m wearing”. \n",
    "\n",
    "What color hat is Sal wearing?\n",
    "\n",
    "Solution output: print \"the color of my hat is:\" and the color \"green\" or \"yellow\""
   ]
  },
  {
   "cell_type": "code",
   "execution_count": null,
   "metadata": {},
   "outputs": [],
   "source": []
  }
 ],
 "metadata": {
  "kernelspec": {
   "display_name": "Python 3",
   "language": "python",
   "name": "python3"
  },
  "language_info": {
   "codemirror_mode": {
    "name": "ipython",
    "version": 3
   },
   "file_extension": ".py",
   "mimetype": "text/x-python",
   "name": "python",
   "nbconvert_exporter": "python",
   "pygments_lexer": "ipython3",
   "version": "3.10.13"
  }
 },
 "nbformat": 4,
 "nbformat_minor": 2
}
